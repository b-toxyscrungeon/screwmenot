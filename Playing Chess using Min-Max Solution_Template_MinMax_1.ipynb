{
  "cells": [
    {
      "cell_type": "markdown",
      "metadata": {
        "id": "view-in-github",
        "colab_type": "text"
      },
      "source": [
        "<a href=\"https://colab.research.google.com/github/b-toxyscrungeon/screwmenot/blob/master/Playing%20Chess%20using%20Min-Max%20Solution_Template_MinMax_1.ipynb\" target=\"_parent\"><img src=\"https://colab.research.google.com/assets/colab-badge.svg\" alt=\"Open In Colab\"/></a>"
      ]
    },
    {
      "cell_type": "markdown",
      "id": "349b329b",
      "metadata": {
        "id": "349b329b"
      },
      "source": [
        "## Artificial and Computational Intelligence Assignment 2"
      ]
    },
    {
      "cell_type": "markdown",
      "id": "ef73df95",
      "metadata": {
        "id": "ef73df95"
      },
      "source": [
        "## Gaming with Min-Max Algorithm - Solution template"
      ]
    },
    {
      "cell_type": "markdown",
      "id": "135a6db2",
      "metadata": {
        "id": "135a6db2"
      },
      "source": [
        "### List only the BITS (Name) of active contributors in this assignment:\n",
        "1. Manas Tuteja 2022AC05507\n",
        "2.\n",
        "3.\n",
        "4.\n",
        "5."
      ]
    },
    {
      "cell_type": "markdown",
      "id": "d6f97bd9",
      "metadata": {
        "id": "d6f97bd9"
      },
      "source": [
        "# Things to follow\n",
        "\n",
        "1. Use appropriate data structures to represent the graph using python libraries\n",
        "2. Provide proper documentation\n",
        "3. Create neat solution without error during game playing"
      ]
    },
    {
      "cell_type": "markdown",
      "id": "9c8fc7c1",
      "metadata": {
        "id": "9c8fc7c1"
      },
      "source": [
        "### Coding begins here"
      ]
    },
    {
      "cell_type": "markdown",
      "id": "ae16f9ad",
      "metadata": {
        "id": "ae16f9ad"
      },
      "source": [
        "### PEAS - Data structures and fringes that define the Agent environment goes here"
      ]
    },
    {
      "cell_type": "markdown",
      "source": [
        "**PEAS (Performance measure, Environment, Actuators, Sensors)** description for this problem statement would be as follows:\n",
        "\n",
        "**Performance Measure:** The performance of the AI player can be measured by whether it wins the game or not. The AI player’s goal is to capture all of the opponent’s pieces and checkmate the opponent’s king. The performance could also be measured by the number of moves it takes to win, with fewer moves being better.\n",
        "\n",
        "**Environment:** The environment is the chess board. It’s a 3x3 grid in this simplified version of chess, and each square can be empty or occupied by a piece. The pieces can be either white or black, and each color corresponds to one player.\n",
        "\n",
        "**Actuators:** The actuators are the commands that the AI player sends to move its pieces on the board. Each command specifies a piece and a destination square.\n",
        "\n",
        "**Sensors:** The sensors are the functions in the code that read the current state of the game board. They allow the AI player to know where all the pieces are and whose turn it is to move.\n",
        "\n",
        "This is a simplified description and actual implementation might require considering more factors. For example, in a more complex version of chess, you might also need to consider factors like the time taken for each move (in timed games), the specific rules of chess (like castling or en passant), and so on.\n",
        "\n"
      ],
      "metadata": {
        "id": "L5HFnPl2UEQ4"
      },
      "id": "L5HFnPl2UEQ4"
    },
    {
      "cell_type": "markdown",
      "source": [
        "`The following code file is written in Python 3 without using any external libraries to solve the Chess Problem as shown in the image below`"
      ],
      "metadata": {
        "id": "82coQFAvTCvp"
      },
      "id": "82coQFAvTCvp"
    },
    {
      "cell_type": "markdown",
      "source": [
        "![chess.png](data:image/png;base64,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)"
      ],
      "metadata": {
        "id": "pGITc3N_TSII"
      },
      "id": "pGITc3N_TSII"
    },
    {
      "cell_type": "markdown",
      "source": [
        "`The implementation initializes White as the Human player and Black as CPU. This can be changed by changing the variable player_turn in Class Game `"
      ],
      "metadata": {
        "id": "fDeudHbnUn07"
      },
      "id": "fDeudHbnUn07"
    },
    {
      "cell_type": "markdown",
      "id": "979b8c3b",
      "metadata": {
        "id": "979b8c3b"
      },
      "source": [
        "### Implementation of the Min-Max algorithm\n",
        "\n"
      ]
    },
    {
      "cell_type": "markdown",
      "source": [
        "\n",
        "\n",
        "\n",
        "```\n",
        "def minimax(self, depth, player):\n",
        "        max_player = player == 'W'\n",
        "        other_player = 'B' if player == 'W' else 'W'\n",
        "\n",
        "        # Base case – terminal position or maximum depth reached\n",
        "        if depth == 0 or not self.has_valid_moves(player):\n",
        "            return self.evaluate(), None\n",
        "\n",
        "        best_move = None\n",
        "\n",
        "        # Recursive case - maximize your gains or minimize the opponent's gains\n",
        "        if max_player:\n",
        "            best_score = float('-inf')\n",
        "            for i in range(3):\n",
        "                for j in range(3):\n",
        "                    for x in range(3):\n",
        "                        for y in range(3):\n",
        "                            if self.is_valid(i, j, x, y):\n",
        "                                move = (i, j, x, y)\n",
        "                                self.make_move(move)\n",
        "                                score = self.minimax(depth - 1, other_player)[0]\n",
        "                                self.undo_move(move)\n",
        "                                if score > best_score:\n",
        "                                    best_score = score\n",
        "                                    best_move = move\n",
        "        else: # Minimizing player\n",
        "            best_score = float('inf')\n",
        "            for i in range(3):\n",
        "                for j in range(3):\n",
        "                    for x in range(3):\n",
        "                        for y in range(3):\n",
        "                            if self.is_valid(i, j, x, y):\n",
        "                                move = (i, j, x, y)\n",
        "                                self.make_move(move)\n",
        "                                score = self.minimax(depth - 1, other_player)[0]\n",
        "                                self.undo_move(move)\n",
        "                                if score < best_score:\n",
        "                                    best_score = score\n",
        "                                    best_move = move\n",
        "\n",
        "        return best_score, best_move\n",
        "    \n",
        "```\n",
        "\n"
      ],
      "metadata": {
        "id": "pcFN8W3-x9ml"
      },
      "id": "pcFN8W3-x9ml"
    },
    {
      "cell_type": "markdown",
      "source": [
        "### Choice and implementation of the Static Evaluation Function\n",
        "\n",
        "```\n",
        "def evaluate(self):\n",
        "        score = 0\n",
        "        for i in range(3):\n",
        "            for j in range(3):\n",
        "                if self.board[i][j] != '  ':\n",
        "                    piece_score = 1 if self.board[i][j] == 'S' else 3\n",
        "                    player_multiplier = 1 if self.board[i][j][0] == 'W' else -1\n",
        "                    score += piece_score * player_multiplier\n",
        "        return score\n",
        "```\n",
        "\n",
        "\n",
        "\n",
        "    "
      ],
      "metadata": {
        "id": "9SXiPx5Jwrp2"
      },
      "id": "9SXiPx5Jwrp2"
    },
    {
      "cell_type": "markdown",
      "source": [
        "The `evaluate` function is a heuristic function used in the Minimax algorithm to evaluate the desirability of the game state. In other words, it gives a score to each game state, which the algorithm uses to make decisions.\n",
        "\n",
        "In this chess game, the `evaluate` function calculates the score based on the value of the pieces on the board. Each type of piece is assigned a `value` (for example, in classic chess, pawns are usually worth 1 point, knights and bishops `3 points, rooks 5 points, and queens 9 points` because that is number of `maximum tiles/boxes the piece can move at one time`). The function then sums up the values of all pieces for each player. The difference between these sums gives the score of the game state: `a positive score means that white is winning`, `a negative score means that black is winning`, `and a score of zero means that the game is balanced`.\n",
        "\n",
        "This is a simple and common way to implement an evaluation function for chess, but it's not the only possible method. More `complex evaluation functions` could also take into account `other factors like piece position, control of the center, king safety, etc.` The choice of evaluation function can have a big impact on the AI's playing style and effectiveness."
      ],
      "metadata": {
        "id": "6uAIMkBhxQ6D"
      },
      "id": "6uAIMkBhxQ6D"
    },
    {
      "cell_type": "markdown",
      "source": [
        "#Using the Minimax and Evaluate functions in Class Game to define environment and run simulation"
      ],
      "metadata": {
        "id": "yYw9OPPfy1JI"
      },
      "id": "yYw9OPPfy1JI"
    },
    {
      "cell_type": "code",
      "source": [
        "import time\n",
        "class Game:\n",
        "\n",
        "    #Chess board using List of Lists for a 2D Array\n",
        "    #W - White, B - Black, S - Soldier, H - Horse, '  ' - Empty\n",
        "\n",
        "    def __init__(self):\n",
        "        self.board = [['WS', 'WH', '  '], ['  ', '  ', '  '], ['  ', 'BS', 'BH']]\n",
        "        self.player_turn = 'W'\n",
        "\n",
        "    def draw_board(self):\n",
        "        for i in range(3):\n",
        "            for j in range(3):\n",
        "                print('{} '.format(self.board[i][j]), end=\"\")\n",
        "            print()\n",
        "\n",
        "    def is_valid(self, px, py, nx, ny):\n",
        "    # Check if the move is within the board\n",
        "      if nx < 0 or ny < 0 or nx >= 3 or ny >= 3:\n",
        "        return False\n",
        "    # Check if the destination square is empty or contains an opponent's piece\n",
        "      if self.board[nx][ny] != '  ' and self.board[nx][ny][0] == self.board[px][py][0]:\n",
        "        return False\n",
        "    # Check the move rules for Soldier and Horse\n",
        "      if self.board[px][py][1] == 'S':\n",
        "        if px + 1 == nx and py == ny:\n",
        "            return True\n",
        "        if px + 1 == nx and (py - 1 == ny or py + 1 == ny) and self.board[nx][ny] != '  ':\n",
        "            return True\n",
        "      elif self.board[px][py][1] == 'H':\n",
        "        if abs(px - nx) == 2 and abs(py - ny) == 1 or abs(px - nx) == 1 and abs(py - ny) == 2:\n",
        "            return True\n",
        "      return False\n",
        "\n",
        "\n",
        "    def has_valid_moves(self, player):\n",
        "        for i in range(3):\n",
        "            for j in range(3):\n",
        "                if self.board[i][j] != ' ' and self.board[i][j][0] == player:\n",
        "                    for x in range(3):\n",
        "                        for y in range(3):\n",
        "                            if self.is_valid(i, j, x, y):\n",
        "                                return True\n",
        "        return False\n",
        "\n",
        "\n",
        "### Choice and implementation of the Static Evaluation Function.\n",
        "\n",
        "\n",
        "    def evaluate(self):\n",
        "        score = 0\n",
        "        for i in range(3):\n",
        "            for j in range(3):\n",
        "                if self.board[i][j] != '  ':\n",
        "                    piece_score = 1 if self.board[i][j][0] == 'S' else 3\n",
        "                    player_multiplier = 1 if self.board[i][j][0] == 'W' else -1\n",
        "                    score += piece_score * player_multiplier\n",
        "        return score\n",
        "\n",
        "\n",
        "\n",
        "    def minimax(self, depth, player):\n",
        "        max_player = player == 'W'\n",
        "        other_player = 'B' if player == 'W' else 'W'\n",
        "\n",
        "        # Base case – terminal position or maximum depth reached\n",
        "        if depth == 0 or not self.has_valid_moves(player):\n",
        "            return self.evaluate(), None\n",
        "\n",
        "        best_move = None\n",
        "\n",
        "        # Recursive case - maximize your gains or minimize the opponent's gains\n",
        "        if max_player:\n",
        "            best_score = float('-inf')\n",
        "            for i in range(3):\n",
        "                for j in range(3):\n",
        "                    for x in range(3):\n",
        "                        for y in range(3):\n",
        "                            if self.is_valid(i, j, x, y):\n",
        "                                move = (i, j, x, y)\n",
        "                                self.make_move(move)\n",
        "                                score = self.minimax(depth - 1, other_player)[0]\n",
        "                                self.undo_move(move)\n",
        "                                if score > best_score:\n",
        "                                    best_score = score\n",
        "                                    best_move = move\n",
        "        else: # Minimizing player\n",
        "            best_score = float('inf')\n",
        "            for i in range(3):\n",
        "                for j in range(3):\n",
        "                    for x in range(3):\n",
        "                        for y in range(3):\n",
        "                            if self.is_valid(i, j, x, y):\n",
        "                                move = (i, j, x, y)\n",
        "                                self.make_move(move)\n",
        "                                score = self.minimax(depth - 1, other_player)[0]\n",
        "                                self.undo_move(move)\n",
        "                                if score < best_score:\n",
        "                                    best_score = score\n",
        "                                    best_move = move\n",
        "\n",
        "        return best_score, best_move\n",
        "\n",
        "\n",
        "    def make_move(self, move):\n",
        "        px, py, nx, ny = move\n",
        "        self.board[nx][ny], self.board[px][py] = self.board[px][py], '  '\n",
        "        if self.player_turn == 'W':\n",
        "            self.player_turn = 'B'\n",
        "        else:\n",
        "            self.player_turn = 'W'\n",
        "\n",
        "    def undo_move(self, move):\n",
        "        px, py, nx, ny = move\n",
        "        self.board[px][py], self.board[nx][ny] = self.board[nx][ny], self.board[px][py]\n",
        "\n",
        "    def is_end(self):\n",
        "        # Check for win condition - one player has no valid moves left\n",
        "        if not self.has_valid_moves('W'):\n",
        "            return 'B'\n",
        "        if not self.has_valid_moves('B'):\n",
        "            return 'W'\n",
        "\n",
        "def main():\n",
        "    game = Game()\n",
        "    print(\"Chess v/s CPU Minmax\")\n",
        "    print(\"\")\n",
        "    while True:\n",
        "        print(\"\")\n",
        "        game.draw_board()\n",
        "        if game.player_turn == 'W':\n",
        "            while True:\n",
        "                print(\"Enter your move (old x, old y, new x, new y): \")\n",
        "                move = tuple(map(int, input().split()))\n",
        "                start = time.time()\n",
        "                if game.is_valid(*move):\n",
        "                    break\n",
        "                else:\n",
        "                    print(\"Invalid move, please try again.\")\n",
        "        else:\n",
        "            _, move = game.minimax(3, 'B')\n",
        "        game.make_move(move)\n",
        "\n",
        "        result = game.is_end()\n",
        "\n",
        "        if result:\n",
        "            if result == 'draw':\n",
        "                print(\"Game over, it's a draw.\")\n",
        "            else:\n",
        "                print(\"Game over, {} wins.\".format(result))\n",
        "            break\n",
        "\n",
        "        end = time.time()\n",
        "\n"
      ],
      "metadata": {
        "id": "6NKPVzRmyx-J"
      },
      "id": "6NKPVzRmyx-J",
      "execution_count": 70,
      "outputs": []
    },
    {
      "cell_type": "code",
      "execution_count": 72,
      "id": "3e2fd5c8",
      "metadata": {
        "colab": {
          "base_uri": "https://localhost:8080/"
        },
        "id": "3e2fd5c8",
        "outputId": "0b9db1fa-174b-4193-8756-e58bbce71201"
      },
      "outputs": [
        {
          "output_type": "stream",
          "name": "stdout",
          "text": [
            "Chess v/s CPU Minmax\n",
            "\n",
            "\n",
            "WS WH    \n",
            "         \n",
            "   BS BH \n",
            "Enter your move (old x, old y, new x, new y): \n",
            "0 1 2 0 \n",
            "\n",
            "WS       \n",
            "         \n",
            "WH BS BH \n",
            "Game over, W wins.\n"
          ]
        }
      ],
      "source": [
        "\n",
        "\n",
        "if __name__ == \"__main__\":\n",
        "    main()\n"
      ]
    },
    {
      "cell_type": "markdown",
      "id": "71d82f98",
      "metadata": {
        "id": "71d82f98"
      },
      "source": [
        "### Implementation of the alpha-beta pruning  "
      ]
    },
    {
      "cell_type": "markdown",
      "source": [
        "*Alpha-beta pruning is an optimization technique used in game theory and other decision-making domains. It works by maintaining two values, alpha and beta, during the search process. Alpha represents the best value that the maximizing player has found so far, while beta represents the best value that the minimizing player has found.\n",
        "The algorithm works by eliminating parts of the search tree that are not relevant to the final decision. This reduces the time and resources required for the search.\n",
        "The condition for Alpha-beta Pruning is that α >= β. Alpha can only be updated when it's MAX's time, and beta can only be updated when it's MIN's turn.*"
      ],
      "metadata": {
        "id": "w5CarVVg1PLQ"
      },
      "id": "w5CarVVg1PLQ"
    },
    {
      "cell_type": "markdown",
      "source": [
        "\n",
        "###Code block to run minmax algorithm with Alpha-Beta Pruning\n",
        "```\n",
        "\n",
        "def minimax(self, depth, alpha, beta, player):\n",
        "    max_player = player == 'W'\n",
        "    other_player = 'B' if player == 'W' else 'W'\n",
        "\n",
        "    # Base case – terminal position or maximum depth reached\n",
        "    if depth == 0 or not self.has_valid_moves(player):\n",
        "        return self.evaluate(), None\n",
        "\n",
        "    best_move = None\n",
        "\n",
        "    # Recursive case - maximize your gains or minimize the opponent's gains\n",
        "    if max_player:\n",
        "        best_score = float('-inf')\n",
        "        for i in range(3):\n",
        "            for j in range(3):\n",
        "                for x in range(3):\n",
        "                    for y in range(3):\n",
        "                        if self.is_valid(i, j, x, y):\n",
        "                            move = (i, j, x, y)\n",
        "                            self.make_move(move)\n",
        "                            score = self.minimax(depth - 1, alpha, beta, other_player)[0]\n",
        "                            self.undo_move(move)\n",
        "                            if score > best_score:\n",
        "                                best_score = score\n",
        "                                best_move = move\n",
        "                            alpha = max(alpha, score)\n",
        "                            if beta <= alpha:\n",
        "                                return best_score, best_move\n",
        "    else: # Minimizing player\n",
        "        best_score = float('inf')\n",
        "        for i in range(3):\n",
        "            for j in range(3):\n",
        "                for x in range(3):\n",
        "                    for y in range(3):\n",
        "                        if self.is_valid(i, j, x, y):\n",
        "                            move = (i, j, x, y)\n",
        "                            self.make_move(move)\n",
        "                            score = self.minimax(depth - 1, alpha, beta, other_player)[0]\n",
        "                            self.undo_move(move)\n",
        "                            if score < best_score:\n",
        "                                best_score = score\n",
        "                                best_move = move\n",
        "                            beta = min(beta, score)\n",
        "                            if beta <= alpha:\n",
        "                                return best_score, best_move\n",
        "\n",
        "    return best_score, best_move\n",
        "```\n",
        "\n"
      ],
      "metadata": {
        "id": "slHKI5WZzZsD"
      },
      "id": "slHKI5WZzZsD"
    },
    {
      "cell_type": "markdown",
      "source": [
        "Re-Writing the minmax funciton in Class Game"
      ],
      "metadata": {
        "id": "8796OJNAzqEl"
      },
      "id": "8796OJNAzqEl"
    },
    {
      "cell_type": "code",
      "execution_count": 73,
      "id": "7f807ef3",
      "metadata": {
        "id": "7f807ef3"
      },
      "outputs": [],
      "source": [
        "\n",
        "class Game:\n",
        "    def __init__(self):\n",
        "        self.board = [['WS', 'WH', '  '], ['  ', '  ', '  '], ['  ', 'BS', 'BH']]\n",
        "        self.player_turn = 'W'\n",
        "\n",
        "    def draw_board(self):\n",
        "        for i in range(3):\n",
        "            for j in range(3):\n",
        "                print('{} '.format(self.board[i][j]), end=\"\")\n",
        "            print()\n",
        "\n",
        "    def is_valid(self, px, py, nx, ny):\n",
        "    # Check if the move is within the board\n",
        "      if nx < 0 or ny < 0 or nx >= 3 or ny >= 3:\n",
        "        return False\n",
        "    # Check if the destination square is empty or contains an opponent's piece\n",
        "      if self.board[nx][ny] != '  ' and self.board[nx][ny][0] == self.board[px][py][0]:\n",
        "        return False\n",
        "    # Check the move rules for Soldier and Horse\n",
        "      if self.board[px][py][1] == 'S':\n",
        "        if px + 1 == nx and py == ny:\n",
        "            return True\n",
        "        if px + 1 == nx and (py - 1 == ny or py + 1 == ny) and self.board[nx][ny] != '  ':\n",
        "            return True\n",
        "      elif self.board[px][py][1] == 'H':\n",
        "        if abs(px - nx) == 2 and abs(py - ny) == 1 or abs(px - nx) == 1 and abs(py - ny) == 2:\n",
        "            return True\n",
        "      return False\n",
        "\n",
        "\n",
        "    def has_valid_moves(self, player):\n",
        "        for i in range(3):\n",
        "            for j in range(3):\n",
        "                if self.board[i][j] != ' ' and self.board[i][j][0] == player:\n",
        "                    for x in range(3):\n",
        "                        for y in range(3):\n",
        "                            if self.is_valid(i, j, x, y):\n",
        "                                return True\n",
        "        return False\n",
        "\n",
        "\n",
        "### Choice and implementation of the Static Evaluation Function.\n",
        "\n",
        "\n",
        "    def evaluate(self):\n",
        "        score = 0\n",
        "        for i in range(3):\n",
        "            for j in range(3):\n",
        "                if self.board[i][j] != '  ':\n",
        "                    piece_score = 1 if self.board[i][j][0] == 'S' else 3\n",
        "                    player_multiplier = 1 if self.board[i][j][0] == 'W' else -1\n",
        "                    score += piece_score * player_multiplier\n",
        "        return score\n",
        "\n",
        "\n",
        "#Re-Written MiniMax for alpha-beta pruning\n",
        "    def minimax(self, depth, alpha, beta, player):\n",
        "\n",
        "      max_player = player == 'W'\n",
        "      other_player = 'B' if player == 'W' else 'W'\n",
        "\n",
        "      # Base case – terminal position or maximum depth reached\n",
        "      if depth == 0 or not self.has_valid_moves(player):\n",
        "          return self.evaluate(), None\n",
        "\n",
        "      best_move = None\n",
        "\n",
        "      # Recursive case - maximize your gains or minimize the opponent's gains\n",
        "      if max_player:\n",
        "          best_score = float('-inf')\n",
        "          for i in range(3):\n",
        "              for j in range(3):\n",
        "                  for x in range(3):\n",
        "                      for y in range(3):\n",
        "                          if self.is_valid(i, j, x, y):\n",
        "                              move = (i, j, x, y)\n",
        "                              self.make_move(move)\n",
        "                              score = self.minimax(depth - 1, alpha, beta, other_player)[0]\n",
        "                              self.undo_move(move)\n",
        "                              if score > best_score:\n",
        "                                  best_score = score\n",
        "                                  best_move = move\n",
        "                              alpha = max(alpha, score)\n",
        "                              if beta <= alpha:\n",
        "                                  return best_score, best_move\n",
        "      else: # Minimizing player\n",
        "          best_score = float('inf')\n",
        "          for i in range(3):\n",
        "              for j in range(3):\n",
        "                  for x in range(3):\n",
        "                      for y in range(3):\n",
        "                          if self.is_valid(i, j, x, y):\n",
        "                              move = (i, j, x, y)\n",
        "                              self.make_move(move)\n",
        "                              score = self.minimax(depth - 1, alpha, beta, other_player)[0]\n",
        "                              self.undo_move(move)\n",
        "                              if score < best_score:\n",
        "                                  best_score = score\n",
        "                                  best_move = move\n",
        "                              beta = min(beta, score)\n",
        "                              if beta <= alpha:\n",
        "                                  return best_score, best_move\n",
        "\n",
        "      return best_score, best_move\n",
        "\n",
        "    def make_move(self, move):\n",
        "        px, py, nx, ny = move\n",
        "        self.board[nx][ny], self.board[px][py] = self.board[px][py], '  '\n",
        "        if self.player_turn == 'W':\n",
        "            self.player_turn = 'B'\n",
        "        else:\n",
        "            self.player_turn = 'W'\n",
        "\n",
        "    def undo_move(self, move):\n",
        "        px, py, nx, ny = move\n",
        "        self.board[px][py], self.board[nx][ny] = self.board[nx][ny], self.board[px][py]\n",
        "\n",
        "    def is_end(self):\n",
        "        # Check for win condition - one player has no valid moves left\n",
        "        if not self.has_valid_moves('W'):\n",
        "            return 'B'\n",
        "        if not self.has_valid_moves('B'):\n",
        "            return 'W'\n",
        ""
      ]
    },
    {
      "cell_type": "markdown",
      "id": "c158f4a2",
      "metadata": {
        "id": "c158f4a2"
      },
      "source": [
        "Playing Game with Alpha-Beta Pruned MinMax"
      ]
    },
    {
      "cell_type": "code",
      "execution_count": 74,
      "id": "ad3cab97",
      "metadata": {
        "colab": {
          "base_uri": "https://localhost:8080/"
        },
        "id": "ad3cab97",
        "outputId": "14d7561d-b3a3-41f0-90b1-0ad1f383cda3"
      },
      "outputs": [
        {
          "output_type": "stream",
          "name": "stdout",
          "text": [
            "Chess v/s CPU Minmax using Alpha-Beta Pruning\n",
            "\n",
            "\n",
            "WS WH    \n",
            "         \n",
            "   BS BH \n",
            "Enter your move (old x, old y, new x, new y): \n",
            "0 1 2 2\n",
            "Game over, W wins.\n"
          ]
        }
      ],
      "source": [
        "#Code Block\n",
        "\n",
        "\n",
        "def main():\n",
        "    game = Game()\n",
        "    while True:\n",
        "        game.draw_board()\n",
        "        if game.player_turn == 'W':\n",
        "            while True:\n",
        "                print(\"Enter your move (old x, old y, new x, new y): \")\n",
        "                move = tuple(map(int, input().split()))\n",
        "                if game.is_valid(*move):\n",
        "                    break\n",
        "                else:\n",
        "                    print(\"Invalid move, please try again.\")\n",
        "        else:\n",
        "            _, move = game.minimax(3, 'B')\n",
        "        game.make_move(move)\n",
        "\n",
        "        result = game.is_end()\n",
        "        if result:\n",
        "            if result == 'draw':\n",
        "                print(\"Game over, it's a draw.\")\n",
        "            else:\n",
        "                print(\"Game over, {} wins.\".format(result))\n",
        "            break\n",
        "\n",
        "\n",
        "def main():\n",
        "    game = Game()\n",
        "    print(\"Chess v/s CPU Minmax using Alpha-Beta Pruning\")\n",
        "    print(\"\")\n",
        "    while True:\n",
        "        print(\"\")\n",
        "        game.draw_board()\n",
        "        if game.player_turn == 'W':\n",
        "\n",
        "            while True:\n",
        "                print(\"Enter your move (old x, old y, new x, new y): \")\n",
        "\n",
        "                move = tuple(map(int, input().split()))\n",
        "                start = time.time()\n",
        "                if game.is_valid(*move):\n",
        "                    break\n",
        "                else:\n",
        "                    print(\"Invalid move, please try again.\")\n",
        "        else:\n",
        "            _, move = game.minimax(3,float('-inf'), float('inf'), 'B')\n",
        "        game.make_move(move)\n",
        "\n",
        "        result = game.is_end()\n",
        "\n",
        "        if result:\n",
        "            if result == 'draw':\n",
        "                print(\"Game over, it's a draw.\")\n",
        "            else:\n",
        "                print(\"Game over, {} wins.\".format(result))\n",
        "            break\n",
        "\n",
        "\n",
        "\n",
        "if __name__ == \"__main__\":\n",
        "    main()\n"
      ]
    },
    {
      "cell_type": "code",
      "source": [],
      "metadata": {
        "id": "sYOVhNe75HtB"
      },
      "id": "sYOVhNe75HtB",
      "execution_count": null,
      "outputs": []
    }
  ],
  "metadata": {
    "kernelspec": {
      "display_name": "Python 3",
      "language": "python",
      "name": "python3"
    },
    "language_info": {
      "codemirror_mode": {
        "name": "ipython",
        "version": 3
      },
      "file_extension": ".py",
      "mimetype": "text/x-python",
      "name": "python",
      "nbconvert_exporter": "python",
      "pygments_lexer": "ipython3",
      "version": "3.8.8"
    },
    "colab": {
      "provenance": [],
      "include_colab_link": true
    }
  },
  "nbformat": 4,
  "nbformat_minor": 5
}